{
 "cells": [
  {
   "cell_type": "markdown",
   "metadata": {},
   "source": [
    "本节将详细讲述列表list的部分应用场景。故不会涉及到全套list功能，仅罗列常用的应用方向。"
   ]
  },
  {
   "cell_type": "markdown",
   "metadata": {},
   "source": [
    "本模块的通关指标，就是通过所有代码块和最终的CSP习题。\n",
    "\n",
    "CSP习题能锻炼算法和思维，对于计算机专业还是一个硬性的毕业要求。如果想深入C++，在用Python实现后务必用C++也实现一次。"
   ]
  },
  {
   "cell_type": "code",
   "execution_count": null,
   "metadata": {},
   "outputs": [],
   "source": [
    "#以下将建立一个空列表\n",
    "l = []\n",
    "print(type(l))\n",
    "#然后是一个初始化后的列表\n",
    "hobbies = [\"唱\", \"跳\", \"rap\"]\n",
    "print(\"hobbies=\",hobbies)\n",
    "#在python中，+默认被重载了很多种用法，包括列表加法\n",
    "cxk = [\"我是练习时长\",\"一坤\",\"年的个人练习生\", \"蔡徐坤\",\"我喜欢\"]"
   ]
  },
  {
   "cell_type": "markdown",
   "metadata": {},
   "source": [
    "尝试实现下一代码块内的功能"
   ]
  },
  {
   "cell_type": "code",
   "execution_count": null,
   "metadata": {},
   "outputs": [],
   "source": [
    "#上手操作代码，对列表hobits进行下述操作\n",
    "#尝试单独访问hobits中的一些元素\n",
    "\n",
    "#尝试在末尾添加篮球和music\n",
    "\n",
    "#合并cxk和hobits为iKun\n",
    "\n",
    "# print(iKun)\n",
    "#将一坤改为2.5，注意2.5为浮点数格式而不是字符串格式\n",
    "\n",
    "#iKun列表在最前面补充一个向大家打招呼的文字！\n"
   ]
  },
  {
   "cell_type": "markdown",
   "metadata": {},
   "source": [
    "在列表的访问中有一种更高级的切片访问，它的特点就是在[]中有:。这让人着有点莫名其妙。使用切片访问列表的格式为 list_name[strat : end : step] ，其中，start 表示起始索引，end 表示结束索引，step 表示步长。\n",
    "\n",
    "在完成iKun后再继续\n"
   ]
  },
  {
   "cell_type": "code",
   "execution_count": null,
   "metadata": {},
   "outputs": [],
   "source": [
    "#从头到尾，每隔两个元素访问\n",
    "print(iKun[0:-1:3])"
   ]
  },
  {
   "cell_type": "markdown",
   "metadata": {},
   "source": [
    "2.维度\n",
    "\n",
    "这是一个非常重要的概念。在整个视觉学习中都要涉及到。有些非常直观，如一个三通道图片（彩图）的维度\n",
    "\n",
    "![cat](./channel.jpg)\n",
    "\n",
    "这很符合我们关于三维世界的想象。</p>\n",
    "但是当维度上升到四维甚至更高，这时候我们就无法套用现实理念了。</p>\n",
    "接下来有一些示例代码，需要你提前安装好python-opencv和matplotlib</p>\n",
    "没必要去研究plt用法，但请一定要去了解for in的用法"
   ]
  },
  {
   "cell_type": "code",
   "execution_count": null,
   "metadata": {},
   "outputs": [],
   "source": [
    "import cv2\n",
    "from matplotlib import pyplot as plt\n",
    "srcpic = cv2.imread(\"./NGM.jpg\")\n",
    "cv2.cvtColor(srcpic, cv2.COLOR_BGR2RGB, srcpic)\n",
    "# opencv 读取的图片颜色通道顺序是BGR，上面代码将其修改为RGB。可以注释掉看看区别\n",
    "plt.imshow(srcpic)\n",
    "imgshape = srcpic.shape\n",
    "plt.title(f'src_kun\\nimg shape:{imgshape}')\n",
    "plt.xticks([])\n",
    "plt.yticks([])\n",
    "plt.show()"
   ]
  },
  {
   "cell_type": "code",
   "execution_count": null,
   "metadata": {},
   "outputs": [],
   "source": [
    "# 让我们切割出篮球、🐔来\n",
    "head = srcpic[0:50, 110:160]# 注意观察与上图shape的关系\n",
    "basketball = srcpic[85:125, 185:225]\n",
    "result =[[head, basketball],[\"head\", \"basketball\"]]\n",
    "plt.figure()\n",
    "for i in range(len(result[0])):\n",
    "    plt.subplot(1,2,i+1)# 此处第三个参数要从1开始\n",
    "    plt.title(f'{result[1][i]}\\nimg shape:{result[0][i].shape}')\n",
    "    plt.xticks([])\n",
    "    plt.yticks([])\n",
    "    plt.imshow(result[0][i])\n",
    "plt.show()"
   ]
  },
  {
   "cell_type": "markdown",
   "metadata": {},
   "source": [
    "参考上文代码，现在请你手动扣出坤坤的右鸡翅，左鸡腿，右鸡腿，并根据提供的list将其用plt展示出来"
   ]
  },
  {
   "cell_type": "code",
   "execution_count": null,
   "metadata": {},
   "outputs": [],
   "source": [
    "img0 = srcpic[:,:]# 填入参数切割右鸡翅\n",
    "img1 = srcpic[:,:]# 填入参数切割左鸡腿\n",
    "img2 = srcpic[:,:]# 填入参数切割右鸡腿\n",
    "result = [\n",
    "    [img0, img1, img2],\n",
    "    [\"right wing\", \"left drumstick\", \"right drumstick\"],\n",
    "    [img0.shape, img1.shape, img2.shape]\n",
    "]\n",
    "plt.figure()\n",
    "for i in range(len(result[0])):\n",
    "    plt.subplot(1,3,i+1)# 此处第三个参数要从1开始\n",
    "    plt.title(f'{}\\nimg shape:{}') #填入对应标签和shape\n",
    "    plt.xticks([])# 不用填\n",
    "    plt.yticks([])# 不用填\n",
    "    plt.imshow()# 填入对应图像\n",
    "plt.show()\n"
   ]
  },
  {
   "cell_type": "markdown",
   "metadata": {},
   "source": [
    "如果你了解过range，你就会发现i遍历了range返回值的所有成员。那么，如果是list呢？\n",
    "\n",
    "list也可以由for in 去遍历！你可以尝试在下面代码块中，用遍历list的方法展示之前的三个图"
   ]
  },
  {
   "cell_type": "code",
   "execution_count": null,
   "metadata": {},
   "outputs": [],
   "source": []
  },
  {
   "cell_type": "markdown",
   "metadata": {},
   "source": [
    "好的，相信有了以上教程，你已经大概了解list的一些应用场景了。但这些场景都是我提供给你们的，你们需要自己动手去创造使用场景。接下来的一道CSP习题可以将list去完成\n",
    "\n",
    "不过，如果你想要完成这道题，还需要根据需求自行学习其他模块\n",
    "\n",
    "![cat](./CSP.jpg)"
   ]
  },
  {
   "cell_type": "markdown",
   "metadata": {},
   "source": [
    "样例输入比较复杂，故写在单独的记事本中便于复制粘贴"
   ]
  },
  {
   "cell_type": "markdown",
   "metadata": {},
   "source": [
    "样例输出\n",
    "1\n",
    "1\n",
    "1\n",
    "1\n",
    "1\n",
    "2\n",
    "2\n",
    "1"
   ]
  },
  {
   "cell_type": "markdown",
   "metadata": {},
   "source": [
    "一些提示：\n",
    "1. 可以使用函数来优化代码的编写（函数可以复用）\n",
    "2. 用多维list储存输入，可以用\"==\"判断两个棋谱是否完全相等\n",
    "3. 循环和遍历是解题的关键\n"
   ]
  },
  {
   "cell_type": "markdown",
   "metadata": {},
   "source": [
    "挑战自我：\n",
    "运用python的文件读写从txt中直接获取数据"
   ]
  },
  {
   "cell_type": "code",
   "execution_count": 12,
   "metadata": {},
   "outputs": [
    {
     "name": "stdout",
     "output_type": "stream",
     "text": [
      "\n",
      "[[0], ['********']]\n"
     ]
    }
   ],
   "source": [
    "# 在此处编写代码\n",
    "l = [[],[]]\n",
    "print()\n",
    "for i in range(1):\n",
    "    l[0].append(i)\n",
    "    for j in range(1):\n",
    "        string = input()\n",
    "        l[1].append(string)\n",
    "print(l)\n"
   ]
  }
 ],
 "metadata": {
  "kernelspec": {
   "display_name": "Python 3.9.16 ('py3.9')",
   "language": "python",
   "name": "python3"
  },
  "language_info": {
   "codemirror_mode": {
    "name": "ipython",
    "version": 3
   },
   "file_extension": ".py",
   "mimetype": "text/x-python",
   "name": "python",
   "nbconvert_exporter": "python",
   "pygments_lexer": "ipython3",
   "version": "3.9.16"
  },
  "orig_nbformat": 4,
  "vscode": {
   "interpreter": {
    "hash": "92df44d86bbe11575ba244719e470f8de004c36b4bfc82ca6a2ab7db9017e54d"
   }
  }
 },
 "nbformat": 4,
 "nbformat_minor": 2
}
