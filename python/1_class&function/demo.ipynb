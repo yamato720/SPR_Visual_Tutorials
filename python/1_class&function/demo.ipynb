{
 "cells": [
  {
   "cell_type": "markdown",
   "metadata": {},
   "source": [
    "有一款游戏，想必都是大家的一个童年回忆吧——<br>\n",
    "**<font color=green>植物</font>大战<font color=grey>僵尸！</font>**<br>\n",
    "你们是否好奇其中的植物、僵尸是怎么写的呢？我们能否做一个简单的电子斗蛐蛐呢？那么这就是本期的重点：<p>\n",
    "<h1 style=\"font-size: 28px\">类(<em style=\"color:red\">class</em>)、对象(<em style=\"color:blue\">objects</em>)和函数(<em style=\"color:green\">function</em>)！</h1><p>\n",
    "电子斗蛐蛐的游戏引擎写起来是真的麻烦。可惜没能做完善，等以后有时间再慢慢完善吧"
   ]
  },
  {
   "cell_type": "markdown",
   "metadata": {},
   "source": [
    "<h1 style = \"color:red;\">1. 类(class) </h1><p>\n",
    "游戏中的主要战斗阵营有两：植物和僵尸。为了便于我们的电子斗蛐蛐的编写，我们的斗蛐蛐按<strong>帧数</strong>计算，定义植物和僵尸有以下属性（删去的属性是游戏中有但并不在本项目中实现的）：<br>\n",
    "<h style=\"color:green;font-size:1mp;\">植物：生命值，武器，体型，亡语，<s>阳光消耗，冷却</s></h><br> \n",
    "<h stype=\"color:grey;font-size:1mp;\">僵尸：生命值，防具，武器，体型，亡语，<s>临界血量，我是僵尸模式下阳光消耗</s></h>\n"
   ]
  },
  {
   "cell_type": "code",
   "execution_count": 4,
   "metadata": {},
   "outputs": [
    {
     "name": "stdout",
     "output_type": "stream",
     "text": [
      "z_deled\n"
     ]
    }
   ],
   "source": [
    "#植物类和僵尸类\n",
    "class Plant:\n",
    "    def __init__(self, p_life, p_weapon, p_icon, p_dead_voice = None) -> None:   # 构造函数，当该类构造成一个对象后自动运行，其中dead_voice默认为无\n",
    "        self.p_life = p_life\n",
    "        self.p_weapon = p_weapon\n",
    "        self.p_icon = p_icon\n",
    "        self.p_dead_voice = p_dead_voice\n",
    "        pass\n",
    "    def __del__(self):\n",
    "        pass\n",
    "\n",
    "class zumbie:\n",
    "    def __init__(self, z_life, z_armor, z_weapon, z_icon, z_dead_voice = None) -> None:\n",
    "        self.z_life = z_life\n",
    "        self.z_armor = z_armor\n",
    "        self.z_weapon = z_weapon\n",
    "        self.z_icon = z_icon\n",
    "        self.z_dead_voice = z_dead_voice\n",
    "        self.total = self.z_life\n",
    "        self.current = self.total\n",
    "        pass\n",
    "    def get_damage(self, damage):\n",
    "        self.current -= damage\n",
    "        if self.current < 0:\n",
    "            del()\n",
    "\n",
    "    def __del__(self):\n",
    "        print(\"僵尸死了！\")\n",
    "        pass\n",
    "\n"
   ]
  },
  {
   "cell_type": "markdown",
   "metadata": {},
   "source": [
    "在那之后，我们需要完善它们，生成不同的分支。使用类的继承。也就是双发射手和其他僵尸</p>\n",
    "在游戏中，路障僵尸、铁桶僵尸等，均是由普通僵尸换防具得来。其他具有特殊功能的普通体型僵尸（如矿工和气球）则是继承了普通僵尸的特性后写出来的"
   ]
  },
  {
   "cell_type": "code",
   "execution_count": null,
   "metadata": {},
   "outputs": [],
   "source": [
    "class double_pea(Plant) : \n",
    "    def __init__(self, p_life, p_weapon:pw.pea_double, p_icon=None, p_dead_voice=None) -> None:\n",
    "        super().__init__(p_life, p_weapon, p_icon, p_dead_voice)\n",
    "    def __del__(self):\n",
    "        return super().__del__()\n",
    "\n",
    "# 之后在其中添加双发射手的一些特性\n",
    "# 如果要创造其他植物，需要先继承植物大类再实现对应特色\n",
    "\n",
    "# 有一个非常直观的类继承的体现就是植物僵尸——它既有植物的攻击特性，又有僵尸的啃食、移动设定。代码如下（暂未详细实现）\n",
    "class Plant_zumbie(Plant, zumbie):\n",
    "    def __init__(self, p_life, p_weapon, p_icon, p_dead_voice=None) -> None:\n",
    "        Plant.__init__(self, p_life, p_weapon, p_icon, p_dead_voice)\n",
    "        zumbie.__init__(self, 1,1,1,zi.normal_zumbie(r'python\\1_class&function\\pic\\zumbie.jpg',810,210))\n",
    "\n"
   ]
  },
  {
   "cell_type": "markdown",
   "metadata": {},
   "source": [
    "<h>根据上述的一系列定义，我制作完成了两张卡：普通僵尸、双发射手（植物僵尸太难顶了）</h></p>\n",
    "注意，我们定义的类仅仅是制造了**卡**，在没有把它放入草坪前它一直都是**卡**。那么放入草坪后的是什么呢？这就是<h style=\"color:red\">对象</h>了。"
   ]
  },
  {
   "cell_type": "markdown",
   "metadata": {},
   "source": [
    "<h1 style = \"color:red;\">2. 对象(object) </h1><p>\n",
    "在生成了类后，需要使用类时就要将类实例化，也就是生成对象。使用方法也很简单。"
   ]
  },
  {
   "cell_type": "code",
   "execution_count": null,
   "metadata": {},
   "outputs": [],
   "source": [
    "a = Plant_zumbie(0,pw.pea_double(50,250),1) \n",
    "double0 = double_pea(1,pw.pea_double(50,250),pi.double_pea_icon(r'python\\1_class&function\\pic\\double_pea.jpg',10,210))\n",
    "zumbie0 = zumbie(200,1,1,zi.normal_zumbie(r'python\\1_class&function\\pic\\zumbie.jpg',810,210))\n",
    "# 括号里的所有成员是类的构造函数的所有输入\n",
    "# 之后，你可以使用对象名调用对象内的成员函数和数据"
   ]
  },
  {
   "cell_type": "markdown",
   "metadata": {},
   "source": [
    "<h1 style=\"color:red\">为什么要使用对象？</h1></p>\n",
    "你们也看到了，这个项目引用了大量其他位置的文件的内容。最方便、功能最强大的引用方式，就是引用类和对象。并且对象是实例化的，也就是说除非你手动析构，它会一直存在于程序运行期间。在实际比赛中，我们需要一个渠道交换、传输、读取并存储数据，对象能很好的完成这一操作。"
   ]
  },
  {
   "cell_type": "markdown",
   "metadata": {},
   "source": [
    "<h1 style = \"color:blue\">3. 函数(function) </h1><p>\n",
    "我们可以看到，我们在类中已经定义了函数了。函数的存在使我们可以用同一个方法去处理不同的数据"
   ]
  },
  {
   "cell_type": "markdown",
   "metadata": {},
   "source": [
    "具体细节存在于代码之中。本代码涉及到很多知识点，类、对象、函数、引用、opencv等，抛砖引玉。</p>本章节的考核题就是研究代码，做一个PPT或word分析并讲讲自己的一些理解和收获。具体要求如下：\n",
    "1. 至少讲解以下几个知识点：类、函数、对象，并且需要自行了解一些我代码之外的细节补充。（如可以补充self的作用、私有和公有属性等）\n",
    "2. 需要解释植物大战僵尸流程的代码流（包括植物子弹发射的实现、子弹与僵尸互动的实现）\n",
    "3. 思考植物僵尸实现的难点在哪里\n",
    "4. 给出实现舞王僵尸的思路（主要是如何实现舞伴僵尸。可以不用写代码，用语言描述即可）\n",
    "5. 给个教程体验感受，包括这次和上次的ヾ(≧▽≦*)o\n",
    "<h3 style=\"color:red\">注：本章会为下一张文件读写和整个后来的opencv、深度学习模型应用打下较为深厚的基本功</h3></p>\n",
    "挑战自我：帮我实现既能啃食又能射击的植物僵尸§(*￣▽￣*)§"
   ]
  }
 ],
 "metadata": {
  "kernelspec": {
   "display_name": "Python 3.9.16 ('py3.9')",
   "language": "python",
   "name": "python3"
  },
  "language_info": {
   "codemirror_mode": {
    "name": "ipython",
    "version": 3
   },
   "file_extension": ".py",
   "mimetype": "text/x-python",
   "name": "python",
   "nbconvert_exporter": "python",
   "pygments_lexer": "ipython3",
   "version": "3.9.16"
  },
  "orig_nbformat": 4,
  "vscode": {
   "interpreter": {
    "hash": "92df44d86bbe11575ba244719e470f8de004c36b4bfc82ca6a2ab7db9017e54d"
   }
  }
 },
 "nbformat": 4,
 "nbformat_minor": 2
}
